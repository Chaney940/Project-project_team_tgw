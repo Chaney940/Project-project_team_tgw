{
 "cells": [
  {
   "cell_type": "markdown",
   "metadata": {},
   "source": [
    "# Analytic approximation of normal implied volatility (Choi et al 2007)"
   ]
  },
  {
   "cell_type": "markdown",
   "metadata": {},
   "source": [
    "## Group members \n",
    "####               Sheng Gu\n",
    "####               Rongze Tang\n",
    "####               Xiran Wang"
   ]
  },
  {
   "cell_type": "markdown",
   "metadata": {},
   "source": [
    "## Formulas"
   ]
  },
  {
   "cell_type": "markdown",
   "metadata": {},
   "source": [
    "$C=E[max(F_{T}-K,0)]=(F_{0}-K) N(d)+\\sigma \\sqrt T n(d)$,$\\qquad \\qquad \\qquad \\qquad \\qquad \\qquad \\qquad  \\qquad \\qquad  (1)$\n",
    "\n",
    "$P=E[max(K-F_{T},0)]=(K-F_{0}) N(-d)+\\sigma \\sqrt T n(-d)$$\\qquad \\qquad \\qquad \\qquad \\qquad \\qquad \\qquad \\qquad \\;\\;\\;\\; (2)$"
   ]
  },
  {
   "cell_type": "markdown",
   "metadata": {},
   "source": [
    "$d=\\displaystyle\\frac{F_{0}-K}{\\sigma \\sqrt T }$$\\qquad \\qquad \\qquad \\qquad \\qquad \\qquad \\qquad\\qquad \\qquad \\qquad \\quad  \\qquad\\qquad \\qquad \\qquad  \\qquad\\;\\; \\;\\,\\,(3)$"
   ]
  },
  {
   "cell_type": "markdown",
   "metadata": {},
   "source": [
    "$C+P=(F_{0}-K) (2N(d)-1)+2\\sigma \\sqrt T n(d)$$\\qquad \\qquad \\qquad \\qquad \\qquad \\qquad \\qquad \\qquad\\;\\quad \\quad \\qquad \\quad\\  (4)$"
   ]
  },
  {
   "cell_type": "markdown",
   "metadata": {},
   "source": [
    "$v=\\displaystyle\\frac{F_{0}-K}{C+P }=\\frac{d}{d (2N(d)-1)+2n(d)}$$\\qquad \\qquad \\qquad \\qquad \\qquad\\quad\\;\\;\\quad \\qquad \\qquad \\qquad \\qquad \\qquad \\;\\;\\,\\,(5)$\n",
    "\n",
    "$C+P = \\sqrt{\\displaystyle \\frac {2T}{\\pi}} \\sigma$$\\qquad \\qquad \\qquad \\qquad \\qquad \\qquad \\qquad \\qquad \\qquad \\qquad \\qquad \\qquad \\qquad \\qquad \\quad \\;\\;\\quad\\, \\,(6)$\n",
    "\n",
    "\n",
    "$\\lim_{n\\to\\infty}\\displaystyle \\frac {d(v)}{v}=\\sqrt{\\displaystyle\\frac {2}{\\pi}}$$\\qquad \\qquad \\qquad \\qquad \\qquad \\qquad\\qquad \\qquad \\qquad  \\qquad \\qquad \\qquad \\qquad \\qquad\\quad\\, \\, (7)$\n",
    "\n",
    "$C+P=\\sqrt{\\displaystyle \\frac {2T}{\\pi}} \\displaystyle \\frac{\\sigma}{h}$ or  $ h=\\sqrt{\\displaystyle\\frac {2}{\\pi}}\\displaystyle \\frac{v}{d}$$\\qquad \\qquad \\qquad \\qquad \\qquad \\qquad \\qquad \\qquad \\qquad\\qquad \\qquad \\qquad \\quad \\;\\; (8)$\n",
    "\n",
    "$\\sigma=\\sqrt{\\displaystyle \\frac {\\pi}{2T}} (C+P) h$$\\qquad \\qquad \\qquad \\qquad \\qquad \\qquad\\qquad \\qquad \\qquad \\qquad  \\qquad \\qquad \\qquad \\qquad \\quad \\;\\;\\;\\,(9)$\n",
    "\n",
    "$\\eta=\\displaystyle\\frac {v}{ tanh^{\\scriptsize -1} \\;(v)}=\\frac{2v}{log((1+v)/(1-v))}$$\\qquad \\qquad \\qquad \\qquad \\qquad \\qquad \\qquad\\qquad \\qquad \\qquad \\qquad \\quad  \\,(10)$\n",
    "\n",
    "$h(\\eta)=\\eta \\cdot\\displaystyle\\sqrt{\\frac{2}{\\pi}}\\cdot\\displaystyle\\frac{log(1+v)/(1-v)}{2d}$$\\qquad\\qquad\\qquad\\qquad\\qquad\\qquad\\qquad\\qquad\\qquad\\qquad\\qquad\\qquad\\,\\,(11)$\n",
    "\n",
    "$\\displaystyle log(1-v(d))\\sim log(1-N(d))\\sim \\displaystyle\\frac {-d^2}{2} $, as $d \\rightarrow \\infty$$\\qquad \\qquad \\qquad \\qquad \\qquad \\qquad \\qquad \\qquad\\quad \\qquad \\,\\,(12)$\n",
    "\n",
    "$\\displaystyle\\frac{h(\\eta)}{\\sqrt{\\eta}}\\sim \\sqrt{\\frac {1}{2\\pi}}$ $\\qquad\\qquad\\qquad\\qquad\\qquad\\qquad\\qquad\\qquad\\qquad\\qquad\\qquad\\qquad\\qquad\\qquad\\quad\\quad\\;\\;\\;\\;\\,\\,\\,(13)$\n",
    "\n",
    "$\\displaystyle\\frac {h(\\eta)}{\\sqrt(\\eta)}\\approx g(\\eta)=\\displaystyle\\frac{ \\sum\\limits_{k=0}^na_k \\eta^k}{ \\sum\\limits_{k=0}^mb_k \\eta^k}$        ($b_0=1$)$\\qquad \\qquad \\qquad \\qquad \\qquad \\qquad \\qquad \\qquad \\qquad\\qquad \\qquad  \\qquad \\;\\,\\;\\,\\;(14)$\n",
    "\n",
    "$\\scriptstyle\\bigtriangleup(C+P)=\\displaystyle\\frac{ \\Delta h}{h}\\;(C+P)\\leq 3.4\\cdot10^{\\scriptsize -9} \\;(C+P)$$\\qquad\\qquad\\qquad\\qquad\\qquad\\qquad\\qquad\\qquad\\qquad\\qquad\\quad\\;\\,\\;\\;\\,\\,\\,$\n",
    "\n",
    "\n",
    "$\\sigma=\\sqrt{\\displaystyle \\frac {\\pi}{2T}} (C+P) \\;h(\\eta)$,$\\qquad\\qquad\\qquad\\qquad\\qquad\\qquad\\qquad\\qquad\\qquad\\qquad\\qquad\\qquad\\qquad\\qquad\\;\\,\\,(15)$\n",
    "\n",
    "Where\n",
    "\n",
    "$\\eta=\\displaystyle\\frac {(F_0-K)/(C+P)}{ tanh^{\\scriptsize -1}\\;((F_0-K)/(C+P))}$, $\\quad h(\\eta)=\\sqrt{\\eta}\\;\\displaystyle\\frac{ \\sum\\limits_{k=0}^7a_k \\;\\eta^k}{ \\sum\\limits_{k=0}^9b_k\\; \\eta^k}$,\n",
    "\n",
    "$a_0=3.99496\\;168734\\;5134\\;e\\;-\\;1$,$\\qquad b_0=1.00000\\;000000\\;0000\\;e\\;+\\;0$,\n",
    "\n",
    "$a_1=2.10096\\;079506\\;8497\\;e\\;+\\;1$,$\\qquad b_1=4.99053\\;415358\\;9422\\;e\\;+\\;1$,\n",
    "\n",
    "$a_2=4.98034\\;021785\\;5084\\;e\\;+\\;1$,$\\qquad b_2=3.09357\\;393674\\;3112\\;e\\;+\\;1$,\n",
    "\n",
    "$a_3=5.98876\\;110269\\;0991\\;e\\;+\\;2$,$\\qquad b_3=1.49510\\;500831\\;0999\\;e\\;+\\;3$,\n",
    "\n",
    "$a_4=1.84848\\;969543\\;7094\\;e\\;+\\;3$,$\\qquad b_4=1.32361\\;453789\\;9738\\;e\\;+\\;3$,\n",
    "\n",
    "$a_5=6.10632\\;240786\\;7059\\;e\\;+\\;3$,$\\qquad b_5=1.59891\\;969767\\;9745\\;e\\;+\\;4$,\n",
    "\n",
    "$a_6=2.49341\\;528534\\;9361\\;e\\;+\\;4$,$\\qquad b_6=2.39200\\;889172\\;0782\\;e\\;+\\;4$,\n",
    "\n",
    "$a_7=1.26645\\;805134\\;8246\\;e\\;+\\;4$,$\\qquad b_7=3.60881\\;710837\\;5034\\;e\\;+\\;3$,\n",
    "\n",
    "$\\qquad \\qquad \\qquad \\qquad \\qquad\\qquad \\qquad\\quad b_8=-2.0677\\;948640\\;0926\\;e\\;+\\;2,$\n",
    "\n",
    "$\\qquad \\qquad \\qquad \\qquad \\qquad\\qquad \\qquad\\quad b_9=1.17424\\;059930\\;6013\\;e\\;+\\;1.$\n",
    "\n",
    "\n",
    "$\\hat \\eta=1-\\eta$$\\qquad\\qquad\\qquad\\qquad\\qquad\\qquad\\qquad\\qquad\\qquad\\qquad\\quad\\;\\,\\;\\;\\,\\,\\,\\qquad\\qquad\\qquad\\qquad\\qquad\\quad\\;(16)$\n",
    "\n",
    "$\\quad h(\\hat\\eta)=\\sqrt{1-\\hat\\eta}\\;\\displaystyle\\frac{ \\sum\\limits_{k=0}^7a_k \\;(1-\\hat\\eta)^k}{ \\sum\\limits_{k=0}^9b_k\\;(1-\\hat \\eta)^k}$$\\qquad\\qquad\\qquad\\qquad\\qquad\\qquad\\qquad\\qquad\\qquad\\qquad\\qquad\\qquad\\;\\;\\;\\;\\,(17)$"
   ]
  },
  {
   "cell_type": "markdown",
   "metadata": {},
   "source": [
    "## Replication"
   ]
  },
  {
   "cell_type": "code",
   "execution_count": 3,
   "metadata": {
    "collapsed": true
   },
   "outputs": [],
   "source": [
    "import numpy as np\n",
    "import scipy.stats as ss\n",
    "import math\n",
    "import matplotlib.pyplot as plt"
   ]
  },
  {
   "cell_type": "code",
   "execution_count": 4,
   "metadata": {},
   "outputs": [
    {
     "data": {
      "image/png": "[encoded data removed]",
      "text/plain": [
       "<matplotlib.figure.Figure at 0x251f7c37940>"
      ]
     },
     "metadata": {},
     "output_type": "display_data"
    }
   ],
   "source": [
    "#Figure 1\n",
    "d=np.linspace(-3,3,num=100)\n",
    "v=d/(d*(2*ss.norm.cdf(d)-1)+2*ss.norm.pdf(d))\n",
    "N=2*ss.norm.cdf(d)-1\n",
    "tan=np.tanh(np.sqrt(math.pi/2)*d)\n",
    "plt.plot(d,v, 'r')\n",
    "plt.plot(d,N, '-')\n",
    "plt.plot(d,tan, 'x')\n",
    "plt.xlabel('d')\n",
    "plt.legend(['v(d)','2N(d)-1','tanh((π/2)^(1/2)d'])# make legend\n",
    "plt.show()"
   ]
  },
  {
   "cell_type": "code",
   "execution_count": 5,
   "metadata": {},
   "outputs": [
    {
     "data": {
      "image/png": "[encoded data removed]",
      "text/plain": [
       "<matplotlib.figure.Figure at 0x251f94d6400>"
      ]
     },
     "metadata": {},
     "output_type": "display_data"
    }
   ],
   "source": [
    "#Figure 2\n",
    "hv=np.sqrt(2/math.pi)*v/d\n",
    "plt.plot(v,hv)\n",
    "plt.ylabel('h(v)')\n",
    "plt.xlabel('v')\n",
    "plt.legend(['h(v)'])\n",
    "plt.show()"
   ]
  },
  {
   "cell_type": "code",
   "execution_count": 6,
   "metadata": {},
   "outputs": [
    {
     "data": {
      "image/png": "[encoded data removed]",
      "text/plain": [
       "<matplotlib.figure.Figure at 0x251f9bd10b8>"
      ]
     },
     "metadata": {},
     "output_type": "display_data"
    }
   ],
   "source": [
    "#Show the relationship between v and η\n",
    "itaa=v/np.arctanh(v)\n",
    "plt.plot(v,itaa)\n",
    "plt.xlabel('v')\n",
    "plt.ylabel('η')\n",
    "plt.show()"
   ]
  },
  {
   "cell_type": "code",
   "execution_count": 7,
   "metadata": {},
   "outputs": [
    {
     "name": "stderr",
     "output_type": "stream",
     "text": [
      "C:\\Users\\trz22\\Anaconda3\\lib\\site-packages\\ipykernel_launcher.py:6: RuntimeWarning: divide by zero encountered in arctanh\n",
      "  \n",
      "C:\\Users\\trz22\\Anaconda3\\lib\\site-packages\\ipykernel_launcher.py:6: RuntimeWarning: invalid value encountered in arctanh\n",
      "  \n",
      "C:\\Users\\trz22\\Anaconda3\\lib\\site-packages\\ipykernel_launcher.py:7: RuntimeWarning: divide by zero encountered in true_divide\n",
      "  import sys\n",
      "C:\\Users\\trz22\\Anaconda3\\lib\\site-packages\\ipykernel_launcher.py:7: RuntimeWarning: divide by zero encountered in log\n",
      "  import sys\n",
      "C:\\Users\\trz22\\Anaconda3\\lib\\site-packages\\ipykernel_launcher.py:7: RuntimeWarning: invalid value encountered in log\n",
      "  import sys\n",
      "C:\\Users\\trz22\\Anaconda3\\lib\\site-packages\\ipykernel_launcher.py:7: RuntimeWarning: invalid value encountered in multiply\n",
      "  import sys\n"
     ]
    },
    {
     "data": {
      "image/png": "[encoded data removed]",
      "text/plain": [
       "<matplotlib.figure.Figure at 0x251f8cc3828>"
      ]
     },
     "metadata": {},
     "output_type": "display_data"
    }
   ],
   "source": [
    "#Figure 3\n",
    "#use sqrt(η/2π) appromix h(η)\n",
    "N=10000\n",
    "d=np.linspace(-N,N,num=100*N)\n",
    "v=d/(d*(2*ss.norm.cdf(d)-1)+2*ss.norm.pdf(d))\n",
    "itaa=v/np.arctanh(v)\n",
    "hitaa3=itaa*np.sqrt(2/math.pi)*np.log((1+v)/(1-v))/(2*d)\n",
    "plt.plot(itaa,hitaa3,'.')\n",
    "ithitaa3=hitaa3/np.sqrt(itaa)\n",
    "plt.plot(itaa,ithitaa3, 'r')\n",
    "plt.xlabel('η')\n",
    "plt.legend(['h(η)','η^(-1/2)h(η)'])# make legend\n",
    "plt.show()"
   ]
  },
  {
   "cell_type": "markdown",
   "metadata": {},
   "source": [
    "## Extension"
   ]
  },
  {
   "cell_type": "code",
   "execution_count": 10,
   "metadata": {
    "collapsed": true
   },
   "outputs": [],
   "source": [
    "#define a model that we can use straddle price to predict the implied volatility\n",
    "class Model:\n",
    "    straddle,strike, spot, texp,intr,divr= None, None, None, None, None, None\n",
    "    def __init__(self,straddle,strike, spot, texp, intr=0, divr=0,flag=1):\n",
    "        self.texp = texp\n",
    "        self.straddle = straddle\n",
    "        self.intr = intr\n",
    "        self.divr = divr\n",
    "        self.spot = spot\n",
    "        self.strike = strike\n",
    "        self.flag = flag\n",
    "     #define h(η)  \n",
    "    def h_a(self,ita=0.5):\n",
    "        a=[  3.994961687345134*10**1\t,\n",
    "                    2.100960795068497*10**1\t,\n",
    "                    4.980340217855084*10**1\t,\n",
    "                    5.988761102690991*10**2\t,\n",
    "                    1.848489695437094*10**3\t,\n",
    "                    6.106322407867059*10**3\t,\n",
    "                    2.493415285349361*10**4\t,\n",
    "                    1.266458051348246*10**4\t]\n",
    "        b=[1.000000000000000*10**0\t\t,\n",
    "                    4.990534153589422*10**1\t\t,\n",
    "                    3.093573936743112*10**1\t\t,\n",
    "                    1.495105008310999*10**3\t\t,\n",
    "                    1.323614537899738*10**3\t\t,\n",
    "                    1.598919697679745*10**4\t\t,\n",
    "                    2.392008891720782*10**4\t\t,\n",
    "                    3.608817108375034*10**3\t\t,\n",
    "                    2.067719486400926*10**2\t\t,\n",
    "                    1.174240599306013*10**1\t\t]\n",
    "        c_cal=[([0]*8) for i in range(8)]\n",
    "        for i in range(8):\n",
    "            for j in range(i+1):\n",
    "                c_cal[i][j]=a[i]*(-1)**j*math.factorial(i)/(math.factorial(j)*math.factorial(i-j))\n",
    "        c=[0]*8\n",
    "        for i in range(8):\n",
    "            for j in range(8):\n",
    "                c[i]+=c_cal[j][i]\n",
    "        \n",
    "      \n",
    "        d_cal=[([0]*10) for i in range(10)]\n",
    "        for i in range(10):\n",
    "            for j in range(i+1):\n",
    "                d_cal[i][j]=b[i]*(-1)**j*math.factorial(i)/(math.factorial(j)*math.factorial(i-j))\n",
    "\n",
    "        d=[0]*10\n",
    "        for i in range(10):\n",
    "            for j in range(10):\n",
    "                d[i]+=d_cal[j][i]\n",
    "        if self.flag==1:\n",
    "            up=0\n",
    "            for i in range(8):\n",
    "                up=up+a[i]*ita**i;\n",
    "            down=0\n",
    "            for i in range(10):\n",
    "                down=down+b[i]*ita**i;\n",
    "            return np.sqrt(ita)*up/down\n",
    "        else:\n",
    "            ita_rev=1-ita\n",
    "            up=0\n",
    "            for i in range(8):\n",
    "                up=up+c[i]*ita_rev**i;\n",
    "            down=0\n",
    "            for i in range(10):\n",
    "                down=down+d[i]*ita_rev**i;\n",
    "            return np.sqrt(1-ita_rev)*up/down\n",
    "        \n",
    "    #define ita  \n",
    "    def ita(self,v):\n",
    "             ita_1=v/np.arctanh(v)  \n",
    "             return ita_1\n",
    "         \n",
    "    def impvol(self):\n",
    "            straddle=self.straddle\n",
    "            strike=self.strike\n",
    "            spot=self.spot\n",
    "            texp=self.texp\n",
    "            v=(spot-strike)/straddle\n",
    "            ita_2=self.ita(v)\n",
    "            h_a1=self.h_a(ita_2)\n",
    "            vol = np.sqrt(np.pi/(2*texp))*straddle*h_a1\n",
    "            return vol"
   ]
  },
  {
   "cell_type": "markdown",
   "metadata": {},
   "source": [
    "## Test"
   ]
  },
  {
   "cell_type": "code",
   "execution_count": 19,
   "metadata": {},
   "outputs": [
    {
     "name": "stdout",
     "output_type": "stream",
     "text": [
      "4.83478675936\n",
      "4.83478675936\n",
      "η=0.053433\n",
      "use η\n",
      "6.34703481568\n",
      "use 1-η\n",
      "6.34703481557\n"
     ]
    }
   ],
   "source": [
    "#test\n",
    "sb = Model(30,5, 20, 50, intr=0, divr=0,flag=0)\n",
    "print(sb.impvol())\n",
    "sb = Model(30,5, 20, 50, intr=0, divr=0,flag=1)\n",
    "print(sb.impvol())\n",
    "straddle=15+0.1**(15)   \n",
    "strike=5\n",
    "spot= 20\n",
    "v=(spot-strike)/straddle\n",
    "ita_1=v/np.arctanh(v)\n",
    "\n",
    "print(\"η=%f\"%(ita_1))\n",
    "print(\"use η\")\n",
    "sb = Model(straddle,strike, spot, 50, intr=0, divr=0,flag=0)\n",
    "print(sb.impvol())\n",
    "print(\"use 1-η\")\n",
    "sb = Model(straddle,strike, spot, 50, intr=0, divr=0,flag=1)\n",
    "print(sb.impvol())"
   ]
  },
  {
   "cell_type": "code",
   "execution_count": null,
   "metadata": {
    "collapsed": true
   },
   "outputs": [],
   "source": []
  },
  {
   "cell_type": "code",
   "execution_count": null,
   "metadata": {
    "collapsed": true
   },
   "outputs": [],
   "source": []
  }
 ],
 "metadata": {
  "kernelspec": {
   "display_name": "Python 3",
   "language": "python",
   "name": "python3"
  },
  "language_info": {
   "codemirror_mode": {
    "name": "ipython",
    "version": 3
   },
   "file_extension": ".py",
   "mimetype": "text/x-python",
   "name": "python",
   "nbconvert_exporter": "python",
   "pygments_lexer": "ipython3",
   "version": "3.6.2"
  }
 },
 "nbformat": 4,
 "nbformat_minor": 2
}
